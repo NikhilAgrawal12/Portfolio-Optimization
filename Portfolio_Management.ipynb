{
  "cells": [
    {
      "cell_type": "code",
      "execution_count": null,
      "metadata": {
        "id": "cO1LL03UoNaP"
      },
      "outputs": [],
      "source": [
        "import yfinance as yf\n",
        "import pandas as pd\n",
        "from datetime import datetime, timedelta"
      ]
    },
    {
      "cell_type": "code",
      "execution_count": null,
      "metadata": {
        "colab": {
          "base_uri": "https://localhost:8080/"
        },
        "id": "nSLXzadKoT52",
        "outputId": "792a4b81-e18a-4c95-d57a-216632d7208b"
      },
      "outputs": [
        {
          "output_type": "stream",
          "name": "stdout",
          "text": [
            "    Ticker                  Sector\n",
            "0      MMM             Industrials\n",
            "1      AOS             Industrials\n",
            "2      ABT             Health Care\n",
            "3     ABBV             Health Care\n",
            "4      ACN  Information Technology\n",
            "..     ...                     ...\n",
            "498    XYL             Industrials\n",
            "499    YUM  Consumer Discretionary\n",
            "500   ZBRA  Information Technology\n",
            "501    ZBH             Health Care\n",
            "502    ZTS             Health Care\n",
            "\n",
            "[503 rows x 2 columns]\n"
          ]
        }
      ],
      "source": [
        "# Step 1: Get S&P 500 Company List\n",
        "def get_sp500_tickers():\n",
        "    url = \"https://en.wikipedia.org/wiki/List_of_S%26P_500_companies\"\n",
        "    sp500_table = pd.read_html(url)[0]  # Get the first table\n",
        "    sp500_data = sp500_table[['Symbol', 'GICS Sector']]\n",
        "    sp500_data.columns = ['Ticker', 'Sector']\n",
        "    return sp500_data\n",
        "\n",
        "sp500_data = get_sp500_tickers()\n",
        "print(sp500_data)"
      ]
    },
    {
      "cell_type": "code",
      "execution_count": null,
      "metadata": {
        "id": "b0B7Uyo93w2I",
        "colab": {
          "base_uri": "https://localhost:8080/"
        },
        "outputId": "cdf1f639-10fe-45fd-f278-7c8922da99e5"
      },
      "outputs": [
        {
          "output_type": "stream",
          "name": "stdout",
          "text": [
            "    Ticker                            Name             Sector    Market Cap  \\\n",
            "0      MMM                      3M Company        Industrials   70852567040   \n",
            "1      AOS         A. O. Smith Corporation        Industrials    9932157952   \n",
            "2      ABT             Abbott Laboratories         Healthcare  196124065792   \n",
            "3     ABBV                     AbbVie Inc.         Healthcare  315134083072   \n",
            "4      ACN                   Accenture plc         Technology  219599765504   \n",
            "..     ...                             ...                ...           ...   \n",
            "498    XYL                      Xylem Inc.        Industrials   28489504768   \n",
            "499    YUM               Yum! Brands, Inc.  Consumer Cyclical   37796671488   \n",
            "500   ZBRA  Zebra Technologies Corporation         Technology   20202854400   \n",
            "501    ZBH    Zimmer Biomet Holdings, Inc.         Healthcare   21095872512   \n",
            "502    ZTS                     Zoetis Inc.         Healthcare   74112876544   \n",
            "\n",
            "    Current Price   PE Ratio Dividend Yield  \n",
            "0          130.11  13.553124         0.0217  \n",
            "1            68.5   18.07388         0.0199  \n",
            "2         113.075    34.3693         0.0209  \n",
            "3          178.33  61.920135         0.0369  \n",
            "4          351.09  29.429169          0.017  \n",
            "..            ...        ...            ...  \n",
            "498      117.2673  33.697502         0.0124  \n",
            "499       135.437  25.315327           0.02  \n",
            "500        391.68   53.07317            N/A  \n",
            "501        105.97  20.223284         0.0091  \n",
            "502        164.27   30.81989         0.0123  \n",
            "\n",
            "[503 rows x 7 columns]\n"
          ]
        }
      ],
      "source": [
        "# Step 2: Fetch Stock Details\n",
        "def fetch_stock_details(tickers):\n",
        "    stock_data = []\n",
        "    for ticker in tickers:\n",
        "        try:\n",
        "            stock = yf.Ticker(ticker)\n",
        "            info = stock.info\n",
        "            stock_data.append({\n",
        "                'Ticker': ticker,\n",
        "                'Name': info.get('longName', 'N/A'),\n",
        "                'Sector': info.get('sector', 'N/A'),\n",
        "                'Market Cap': info.get('marketCap', 'N/A'),\n",
        "                'Current Price': info.get('currentPrice', 'N/A'),\n",
        "                'PE Ratio': info.get('trailingPE', 'N/A'),\n",
        "                'Dividend Yield': info.get('dividendYield', 'N/A'),\n",
        "            })\n",
        "        except Exception as e:\n",
        "            print(f\"Error fetching data for {ticker}: {e}\")\n",
        "    return pd.DataFrame(stock_data)\n",
        "\n",
        "tickers = sp500_data['Ticker'].tolist()\n",
        "\n",
        "# Fetch stock details for the S&P 500 companies\n",
        "stock_details = fetch_stock_details(tickers)\n",
        "\n",
        "# Display first few rows of the data\n",
        "print(stock_details)\n",
        "\n",
        "# Save to CSV for further analysis\n",
        "stock_details.to_csv(\"sp500_stock_details.csv\", index=False)"
      ]
    },
    {
      "cell_type": "code",
      "source": [
        "import numpy as np\n",
        "import pandas as pd\n",
        "import yfinance as yf\n",
        "from sklearn.ensemble import RandomForestRegressor\n",
        "from sklearn.model_selection import GridSearchCV\n",
        "from scipy.optimize import minimize\n",
        "import matplotlib.pyplot as plt\n",
        "\n",
        "# Step 1: Fetch Historical Stock Data\n",
        "def get_stock_data(tickers, start_date, end_date):\n",
        "    data = yf.download(tickers, start=start_date, end=end_date)\n",
        "    return data['Adj Close']\n",
        "\n",
        "# Step 2: Feature Engineering\n",
        "def create_features(data):\n",
        "    returns = data.pct_change().dropna()  # Calculate percentage change\n",
        "    features = pd.DataFrame(index=returns.index)\n",
        "\n",
        "    # Add rolling mean, volatility, and momentum for each stock as features\n",
        "    for column in returns.columns:\n",
        "        features[f'{column}_Mean_Return_10d'] = returns[column].rolling(10).mean()\n",
        "        features[f'{column}_Volatility_10d'] = returns[column].rolling(10).std()\n",
        "        features[f'{column}_Momentum_10d'] = returns[column].rolling(10).sum()\n",
        "\n",
        "    # Add moving averages\n",
        "    for column in data.columns:\n",
        "        features[f'{column}_SMA_50'] = data[column].rolling(50).mean()\n",
        "        features[f'{column}_SMA_200'] = data[column].rolling(200).mean()\n",
        "\n",
        "    # Drop rows with NaN values created by rolling operations\n",
        "    features.dropna(inplace=True)\n",
        "\n",
        "    # Future returns as targets (ensure index alignment with features)\n",
        "    future_returns = returns.shift(-1).reindex(features.index)\n",
        "\n",
        "    # Drop rows with NaN values in the target\n",
        "    valid_indices = ~future_returns.isnull().any(axis=1)\n",
        "    features = features.loc[valid_indices]\n",
        "    future_returns = future_returns.loc[valid_indices]\n",
        "\n",
        "    return features, future_returns\n",
        "\n",
        "# Step 3: Train Machine Learning Model\n",
        "def train_advanced_model(X, y):\n",
        "    model = RandomForestRegressor(random_state=42)\n",
        "\n",
        "    # Hyperparameter tuning using Grid Search\n",
        "    param_grid = {\n",
        "        'n_estimators': [50, 100, 200],\n",
        "        'max_depth': [5, 10, None],\n",
        "        'min_samples_split': [2, 5, 10]\n",
        "    }\n",
        "    grid_search = GridSearchCV(model, param_grid, cv=3, scoring='neg_mean_squared_error')\n",
        "    grid_search.fit(X, y)\n",
        "    best_model = grid_search.best_estimator_\n",
        "\n",
        "    print(\"Best Parameters:\", grid_search.best_params_)\n",
        "    return best_model\n",
        "\n",
        "# Step 4: Portfolio Optimization\n",
        "def optimize_portfolio(expected_returns, cov_matrix):\n",
        "    num_assets = len(expected_returns)\n",
        "\n",
        "    def objective(weights):\n",
        "        portfolio_variance = np.dot(weights.T, np.dot(cov_matrix, weights))\n",
        "        portfolio_return = np.dot(weights, expected_returns)\n",
        "        # Minimize -Sharpe Ratio (maximize return and minimize risk)\n",
        "        return -portfolio_return / np.sqrt(portfolio_variance)\n",
        "\n",
        "    constraints = ({'type': 'eq', 'fun': lambda weights: np.sum(weights) - 1})\n",
        "    bounds = tuple((0, 1) for _ in range(num_assets))  # No short-selling\n",
        "    initial_weights = np.ones(num_assets) / num_assets\n",
        "\n",
        "    result = minimize(objective, initial_weights, method='SLSQP', bounds=bounds, constraints=constraints)\n",
        "    return result.x\n",
        "\n",
        "# Main Execution\n",
        "start_date = '2020-01-01'\n",
        "end_date = '2023-01-01'\n",
        "\n",
        "# Example: Limit to 10 S&P 500 tickers for simplicity\n",
        "sp500_tickers = ['AAPL', 'MSFT', 'GOOGL', 'AMZN', 'TSLA', 'JNJ', 'XOM', 'V', 'PG', 'NVDA']\n",
        "data = get_stock_data(sp500_tickers, start_date, end_date)\n",
        "\n",
        "# Step 2: Prepare features and target\n",
        "features, future_returns = create_features(data)\n",
        "\n",
        "# Ensure no NaN in features or target\n",
        "X = features.values\n",
        "y = future_returns.mean(axis=1)  # Use the mean of future returns as a single target value\n",
        "\n",
        "# Drop any remaining NaN values in y\n",
        "valid_indices = ~np.isnan(y)\n",
        "X = X[valid_indices]\n",
        "y = y[valid_indices]\n",
        "\n",
        "# Step 3: Train the model\n",
        "model = train_advanced_model(X, y)\n",
        "\n",
        "# Step 4: Predict future returns\n",
        "predicted_returns = model.predict(X)\n",
        "\n",
        "# Aggregate predicted returns by stock (mean of predictions per stock)\n",
        "num_stocks = len(sp500_tickers)\n",
        "aggregated_returns = np.zeros(num_stocks)\n",
        "block_size = X.shape[1] // num_stocks  # Block size per stock\n",
        "\n",
        "for i in range(num_stocks):\n",
        "    aggregated_returns[i] = predicted_returns[i::block_size].mean()\n",
        "\n",
        "# Step 5: Covariance matrix for portfolio optimization\n",
        "cov_matrix = data.pct_change().cov()\n",
        "\n",
        "# Step 6: Optimize portfolio weights\n",
        "weights = optimize_portfolio(aggregated_returns, cov_matrix)\n",
        "\n",
        "# Display Results\n",
        "allocation = pd.DataFrame({'Ticker': sp500_tickers, 'Weight': weights})\n",
        "print(\"\\nPortfolio Allocation:\")\n",
        "print(allocation)\n",
        "\n",
        "# Save allocation to a CSV file\n",
        "allocation.to_csv(\"optimized_sp500_portfolio.csv\", index=False)\n",
        "\n",
        "# Visualize Allocation\n",
        "allocation.plot(kind='bar', x='Ticker', y='Weight', legend=False, title='Optimized Portfolio Allocation')\n",
        "plt.ylabel('Weight')\n",
        "plt.show()\n"
      ],
      "metadata": {
        "colab": {
          "base_uri": "https://localhost:8080/",
          "height": 769
        },
        "id": "-HVFgJczn_yX",
        "outputId": "faa3fafe-98ac-4c4b-887c-2493ce8ffb16"
      },
      "execution_count": null,
      "outputs": [
        {
          "output_type": "stream",
          "name": "stderr",
          "text": [
            "[*********************100%***********************]  10 of 10 completed\n"
          ]
        },
        {
          "output_type": "stream",
          "name": "stdout",
          "text": [
            "Best Parameters: {'max_depth': 5, 'min_samples_split': 10, 'n_estimators': 50}\n",
            "\n",
            "Portfolio Allocation:\n",
            "  Ticker        Weight\n",
            "0   AAPL  0.000000e+00\n",
            "1   MSFT  1.792000e-01\n",
            "2  GOOGL  0.000000e+00\n",
            "3   AMZN  9.077076e-17\n",
            "4   TSLA  1.275043e-17\n",
            "5    JNJ  0.000000e+00\n",
            "6    XOM  8.005300e-01\n",
            "7      V  0.000000e+00\n",
            "8     PG  1.431502e-16\n",
            "9   NVDA  2.026997e-02\n"
          ]
        },
        {
          "output_type": "display_data",
          "data": {
            "text/plain": [
              "<Figure size 640x480 with 1 Axes>"
            ],
            "image/png": "[encoded data removed]"
          },
          "metadata": {}
        }
      ]
    },
    {
      "cell_type": "code",
      "source": [],
      "metadata": {
        "id": "6uoNxKUxtCAL"
      },
      "execution_count": null,
      "outputs": []
    }
  ],
  "metadata": {
    "colab": {
      "provenance": []
    },
    "kernelspec": {
      "display_name": "Python 3",
      "name": "python3"
    },
    "language_info": {
      "name": "python"
    }
  },
  "nbformat": 4,
  "nbformat_minor": 0
}